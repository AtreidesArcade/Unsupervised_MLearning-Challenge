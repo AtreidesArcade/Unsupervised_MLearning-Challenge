{
 "cells": [
  {
   "cell_type": "code",
   "execution_count": 1,
   "id": "316217a8",
   "metadata": {},
   "outputs": [],
   "source": [
    "#Imports\n",
    "import pandas as pd\n",
    "from pathlib import Path\n"
   ]
  },
  {
   "cell_type": "code",
   "execution_count": 2,
   "id": "8030b645",
   "metadata": {},
   "outputs": [
    {
     "data": {
      "text/plain": [
       "(1252, 7)"
      ]
     },
     "execution_count": 2,
     "metadata": {},
     "output_type": "execute_result"
    }
   ],
   "source": [
    "#Load crypto data to clean\n",
    "file_path = Path(\"crypto_data.csv\")\n",
    "df_crypto = pd.read_csv(file_path)\n",
    "df_crypto.head()\n",
    "df_crypto.shape"
   ]
  },
  {
   "cell_type": "code",
   "execution_count": 3,
   "id": "c38b1e77",
   "metadata": {},
   "outputs": [
    {
     "data": {
      "text/plain": [
       "(1144, 7)"
      ]
     },
     "execution_count": 3,
     "metadata": {},
     "output_type": "execute_result"
    }
   ],
   "source": [
    "#Filter out crypto currencies that are not traded\n",
    "df_notTraded = df_crypto[df_crypto.IsTrading == True]\n",
    "df_notTraded.shape"
   ]
  },
  {
   "cell_type": "code",
   "execution_count": 4,
   "id": "d6ecb08a",
   "metadata": {},
   "outputs": [
    {
     "data": {
      "text/plain": [
       "(1144, 6)"
      ]
     },
     "execution_count": 4,
     "metadata": {},
     "output_type": "execute_result"
    }
   ],
   "source": [
    "#Drop IsTrading column from clean / filtered data set\n",
    "df_traded = df_notTraded.drop(columns=[\"IsTrading\"])\n",
    "df_traded.shape"
   ]
  },
  {
   "cell_type": "code",
   "execution_count": 5,
   "id": "050121cd",
   "metadata": {},
   "outputs": [
    {
     "data": {
      "text/plain": [
       "(685, 6)"
      ]
     },
     "execution_count": 5,
     "metadata": {},
     "output_type": "execute_result"
    }
   ],
   "source": [
    "#Drop all NULLS\n",
    "df_nulls = df_traded.dropna()\n",
    "df_nulls.shape"
   ]
  },
  {
   "cell_type": "code",
   "execution_count": 6,
   "id": "0a186c1c",
   "metadata": {},
   "outputs": [
    {
     "data": {
      "text/plain": [
       "Algorithm           object\n",
       "ProofType           object\n",
       "TotalCoinsMined    float64\n",
       "TotalCoinSupply    float64\n",
       "dtype: object"
      ]
     },
     "execution_count": 6,
     "metadata": {},
     "output_type": "execute_result"
    }
   ],
   "source": [
    "#Drop non essential columns / organize data types\n",
    "df_nulls.head()\n",
    "df_cleaned = df_nulls.drop(columns=[\"CoinName\",\"Unnamed: 0\"])\n",
    "df_cleaned.shape\n",
    "df_cleaned.TotalCoinSupply = df_cleaned.TotalCoinSupply.astype(float)\n",
    "df_cleaned.dtypes"
   ]
  },
  {
   "cell_type": "code",
   "execution_count": 7,
   "id": "ce62d064",
   "metadata": {},
   "outputs": [
    {
     "data": {
      "text/plain": [
       "(685, 109)"
      ]
     },
     "execution_count": 7,
     "metadata": {},
     "output_type": "execute_result"
    }
   ],
   "source": [
    "#Create dummy variables for clean/categorized columns\n",
    "df_dummies = pd.get_dummies(df_cleaned)\n",
    "df_dummies.shape"
   ]
  },
  {
   "cell_type": "markdown",
   "id": "3060de48",
   "metadata": {},
   "source": [
    "Final cleaned dataset changed to 685 rows and 109 features"
   ]
  },
  {
   "cell_type": "code",
   "execution_count": 8,
   "id": "e3e22ebd",
   "metadata": {
    "scrolled": false
   },
   "outputs": [
    {
     "data": {
      "text/html": [
       "<div>\n",
       "<style scoped>\n",
       "    .dataframe tbody tr th:only-of-type {\n",
       "        vertical-align: middle;\n",
       "    }\n",
       "\n",
       "    .dataframe tbody tr th {\n",
       "        vertical-align: top;\n",
       "    }\n",
       "\n",
       "    .dataframe thead th {\n",
       "        text-align: right;\n",
       "    }\n",
       "</style>\n",
       "<table border=\"1\" class=\"dataframe\">\n",
       "  <thead>\n",
       "    <tr style=\"text-align: right;\">\n",
       "      <th></th>\n",
       "      <th>0</th>\n",
       "      <th>1</th>\n",
       "      <th>2</th>\n",
       "      <th>3</th>\n",
       "      <th>4</th>\n",
       "      <th>5</th>\n",
       "      <th>6</th>\n",
       "      <th>7</th>\n",
       "      <th>8</th>\n",
       "      <th>9</th>\n",
       "      <th>...</th>\n",
       "      <th>74</th>\n",
       "      <th>75</th>\n",
       "      <th>76</th>\n",
       "      <th>77</th>\n",
       "      <th>78</th>\n",
       "      <th>79</th>\n",
       "      <th>80</th>\n",
       "      <th>81</th>\n",
       "      <th>82</th>\n",
       "      <th>83</th>\n",
       "    </tr>\n",
       "  </thead>\n",
       "  <tbody>\n",
       "    <tr>\n",
       "      <th>0</th>\n",
       "      <td>-0.226931</td>\n",
       "      <td>1.233286</td>\n",
       "      <td>-0.494639</td>\n",
       "      <td>-3.074211e-07</td>\n",
       "      <td>-2.180976e-10</td>\n",
       "      <td>2.108098e-10</td>\n",
       "      <td>1.021962e-10</td>\n",
       "      <td>-1.002219e-10</td>\n",
       "      <td>0.015015</td>\n",
       "      <td>-1.108822</td>\n",
       "      <td>...</td>\n",
       "      <td>6.615687e-13</td>\n",
       "      <td>-4.332289e-13</td>\n",
       "      <td>-7.912200e-13</td>\n",
       "      <td>-1.754659e-13</td>\n",
       "      <td>-5.280842e-14</td>\n",
       "      <td>5.871498e-13</td>\n",
       "      <td>3.583707e-13</td>\n",
       "      <td>7.472408e-14</td>\n",
       "      <td>7.904338e-13</td>\n",
       "      <td>4.561725e-13</td>\n",
       "    </tr>\n",
       "    <tr>\n",
       "      <th>1</th>\n",
       "      <td>-0.212511</td>\n",
       "      <td>1.231877</td>\n",
       "      <td>-0.495250</td>\n",
       "      <td>-3.074212e-07</td>\n",
       "      <td>-2.180975e-10</td>\n",
       "      <td>2.108098e-10</td>\n",
       "      <td>1.021964e-10</td>\n",
       "      <td>-1.002222e-10</td>\n",
       "      <td>0.013635</td>\n",
       "      <td>-1.111887</td>\n",
       "      <td>...</td>\n",
       "      <td>6.613265e-13</td>\n",
       "      <td>-4.340645e-13</td>\n",
       "      <td>-7.912020e-13</td>\n",
       "      <td>-1.748923e-13</td>\n",
       "      <td>-5.312238e-14</td>\n",
       "      <td>5.868439e-13</td>\n",
       "      <td>3.594314e-13</td>\n",
       "      <td>7.460454e-14</td>\n",
       "      <td>7.891817e-13</td>\n",
       "      <td>4.553372e-13</td>\n",
       "    </tr>\n",
       "    <tr>\n",
       "      <th>2</th>\n",
       "      <td>-0.156502</td>\n",
       "      <td>0.820326</td>\n",
       "      <td>-0.304937</td>\n",
       "      <td>-2.267267e-07</td>\n",
       "      <td>-1.608530e-10</td>\n",
       "      <td>1.554762e-10</td>\n",
       "      <td>7.537129e-11</td>\n",
       "      <td>-7.391410e-11</td>\n",
       "      <td>-0.001711</td>\n",
       "      <td>-0.625905</td>\n",
       "      <td>...</td>\n",
       "      <td>7.792531e-15</td>\n",
       "      <td>-1.935649e-14</td>\n",
       "      <td>-6.213731e-15</td>\n",
       "      <td>3.019814e-15</td>\n",
       "      <td>6.244676e-15</td>\n",
       "      <td>4.135201e-16</td>\n",
       "      <td>4.908824e-15</td>\n",
       "      <td>-3.361548e-15</td>\n",
       "      <td>3.291779e-15</td>\n",
       "      <td>7.248567e-16</td>\n",
       "    </tr>\n",
       "    <tr>\n",
       "      <th>3</th>\n",
       "      <td>0.284201</td>\n",
       "      <td>1.971340</td>\n",
       "      <td>-0.537186</td>\n",
       "      <td>-4.518585e-07</td>\n",
       "      <td>-3.205806e-10</td>\n",
       "      <td>3.098614e-10</td>\n",
       "      <td>1.502117e-10</td>\n",
       "      <td>-1.472873e-10</td>\n",
       "      <td>-0.030183</td>\n",
       "      <td>-0.827578</td>\n",
       "      <td>...</td>\n",
       "      <td>4.932346e-14</td>\n",
       "      <td>-2.279627e-14</td>\n",
       "      <td>-5.241688e-14</td>\n",
       "      <td>1.839631e-14</td>\n",
       "      <td>2.997910e-14</td>\n",
       "      <td>4.604982e-14</td>\n",
       "      <td>6.059332e-14</td>\n",
       "      <td>-1.113407e-14</td>\n",
       "      <td>-5.690006e-14</td>\n",
       "      <td>2.232575e-14</td>\n",
       "    </tr>\n",
       "    <tr>\n",
       "      <th>4</th>\n",
       "      <td>-0.208425</td>\n",
       "      <td>-1.471116</td>\n",
       "      <td>0.135380</td>\n",
       "      <td>1.813074e-07</td>\n",
       "      <td>1.286361e-10</td>\n",
       "      <td>-1.243346e-10</td>\n",
       "      <td>-6.027293e-11</td>\n",
       "      <td>5.910834e-11</td>\n",
       "      <td>-0.004237</td>\n",
       "      <td>0.064427</td>\n",
       "      <td>...</td>\n",
       "      <td>8.976690e-15</td>\n",
       "      <td>-1.532681e-14</td>\n",
       "      <td>-8.214744e-15</td>\n",
       "      <td>2.491594e-15</td>\n",
       "      <td>6.021511e-15</td>\n",
       "      <td>4.103819e-15</td>\n",
       "      <td>8.382820e-15</td>\n",
       "      <td>-2.820517e-15</td>\n",
       "      <td>-6.859142e-16</td>\n",
       "      <td>1.683917e-15</td>\n",
       "    </tr>\n",
       "    <tr>\n",
       "      <th>...</th>\n",
       "      <td>...</td>\n",
       "      <td>...</td>\n",
       "      <td>...</td>\n",
       "      <td>...</td>\n",
       "      <td>...</td>\n",
       "      <td>...</td>\n",
       "      <td>...</td>\n",
       "      <td>...</td>\n",
       "      <td>...</td>\n",
       "      <td>...</td>\n",
       "      <td>...</td>\n",
       "      <td>...</td>\n",
       "      <td>...</td>\n",
       "      <td>...</td>\n",
       "      <td>...</td>\n",
       "      <td>...</td>\n",
       "      <td>...</td>\n",
       "      <td>...</td>\n",
       "      <td>...</td>\n",
       "      <td>...</td>\n",
       "      <td>...</td>\n",
       "    </tr>\n",
       "    <tr>\n",
       "      <th>680</th>\n",
       "      <td>4.075540</td>\n",
       "      <td>-0.136391</td>\n",
       "      <td>-0.097843</td>\n",
       "      <td>-8.429465e-08</td>\n",
       "      <td>-5.978639e-11</td>\n",
       "      <td>5.777946e-11</td>\n",
       "      <td>2.800451e-11</td>\n",
       "      <td>-2.745945e-11</td>\n",
       "      <td>-1.094977</td>\n",
       "      <td>0.736512</td>\n",
       "      <td>...</td>\n",
       "      <td>7.265293e-15</td>\n",
       "      <td>-1.808396e-14</td>\n",
       "      <td>-7.146047e-15</td>\n",
       "      <td>4.662615e-15</td>\n",
       "      <td>7.084925e-15</td>\n",
       "      <td>1.609729e-15</td>\n",
       "      <td>6.131727e-15</td>\n",
       "      <td>-2.233795e-15</td>\n",
       "      <td>1.687459e-17</td>\n",
       "      <td>-1.334659e-15</td>\n",
       "    </tr>\n",
       "    <tr>\n",
       "      <th>681</th>\n",
       "      <td>-0.226727</td>\n",
       "      <td>1.233266</td>\n",
       "      <td>-0.494647</td>\n",
       "      <td>-3.074211e-07</td>\n",
       "      <td>-2.180975e-10</td>\n",
       "      <td>2.108098e-10</td>\n",
       "      <td>1.021964e-10</td>\n",
       "      <td>-1.002221e-10</td>\n",
       "      <td>0.014996</td>\n",
       "      <td>-1.108865</td>\n",
       "      <td>...</td>\n",
       "      <td>6.613781e-13</td>\n",
       "      <td>-4.337000e-13</td>\n",
       "      <td>-7.914579e-13</td>\n",
       "      <td>-1.752115e-13</td>\n",
       "      <td>-5.303080e-14</td>\n",
       "      <td>5.868420e-13</td>\n",
       "      <td>3.594746e-13</td>\n",
       "      <td>7.480133e-14</td>\n",
       "      <td>7.893221e-13</td>\n",
       "      <td>4.553282e-13</td>\n",
       "    </tr>\n",
       "    <tr>\n",
       "      <th>682</th>\n",
       "      <td>-0.121196</td>\n",
       "      <td>-2.314110</td>\n",
       "      <td>0.284863</td>\n",
       "      <td>3.476580e-07</td>\n",
       "      <td>2.466611e-10</td>\n",
       "      <td>-2.384098e-10</td>\n",
       "      <td>-1.155739e-10</td>\n",
       "      <td>1.133284e-10</td>\n",
       "      <td>-0.001641</td>\n",
       "      <td>-0.011329</td>\n",
       "      <td>...</td>\n",
       "      <td>5.806607e-14</td>\n",
       "      <td>-1.109223e-13</td>\n",
       "      <td>-1.631028e-14</td>\n",
       "      <td>2.286559e-14</td>\n",
       "      <td>2.212354e-14</td>\n",
       "      <td>-4.422668e-14</td>\n",
       "      <td>-4.144151e-15</td>\n",
       "      <td>3.404714e-14</td>\n",
       "      <td>3.659870e-14</td>\n",
       "      <td>-8.791254e-15</td>\n",
       "    </tr>\n",
       "    <tr>\n",
       "      <th>683</th>\n",
       "      <td>-0.277782</td>\n",
       "      <td>-2.030379</td>\n",
       "      <td>0.262191</td>\n",
       "      <td>3.014882e-07</td>\n",
       "      <td>2.139009e-10</td>\n",
       "      <td>-2.067490e-10</td>\n",
       "      <td>-1.002247e-10</td>\n",
       "      <td>9.828546e-11</td>\n",
       "      <td>0.017138</td>\n",
       "      <td>0.161203</td>\n",
       "      <td>...</td>\n",
       "      <td>6.608782e-13</td>\n",
       "      <td>-4.298653e-13</td>\n",
       "      <td>-7.966319e-13</td>\n",
       "      <td>-1.716760e-13</td>\n",
       "      <td>-5.471934e-14</td>\n",
       "      <td>5.935268e-13</td>\n",
       "      <td>3.654135e-13</td>\n",
       "      <td>7.490203e-14</td>\n",
       "      <td>7.839293e-13</td>\n",
       "      <td>4.565011e-13</td>\n",
       "    </tr>\n",
       "    <tr>\n",
       "      <th>684</th>\n",
       "      <td>-0.089348</td>\n",
       "      <td>0.776902</td>\n",
       "      <td>-0.204001</td>\n",
       "      <td>-2.081479e-07</td>\n",
       "      <td>-1.476763e-10</td>\n",
       "      <td>1.427390e-10</td>\n",
       "      <td>6.919529e-11</td>\n",
       "      <td>-6.785758e-11</td>\n",
       "      <td>-0.019264</td>\n",
       "      <td>1.307668</td>\n",
       "      <td>...</td>\n",
       "      <td>6.636621e-13</td>\n",
       "      <td>-4.312716e-13</td>\n",
       "      <td>-7.950860e-13</td>\n",
       "      <td>-1.754575e-13</td>\n",
       "      <td>-5.035692e-14</td>\n",
       "      <td>5.893516e-13</td>\n",
       "      <td>3.623463e-13</td>\n",
       "      <td>7.535241e-14</td>\n",
       "      <td>7.862070e-13</td>\n",
       "      <td>4.553905e-13</td>\n",
       "    </tr>\n",
       "  </tbody>\n",
       "</table>\n",
       "<p>685 rows × 84 columns</p>\n",
       "</div>"
      ],
      "text/plain": [
       "           0         1         2             3             4             5   \\\n",
       "0   -0.226931  1.233286 -0.494639 -3.074211e-07 -2.180976e-10  2.108098e-10   \n",
       "1   -0.212511  1.231877 -0.495250 -3.074212e-07 -2.180975e-10  2.108098e-10   \n",
       "2   -0.156502  0.820326 -0.304937 -2.267267e-07 -1.608530e-10  1.554762e-10   \n",
       "3    0.284201  1.971340 -0.537186 -4.518585e-07 -3.205806e-10  3.098614e-10   \n",
       "4   -0.208425 -1.471116  0.135380  1.813074e-07  1.286361e-10 -1.243346e-10   \n",
       "..        ...       ...       ...           ...           ...           ...   \n",
       "680  4.075540 -0.136391 -0.097843 -8.429465e-08 -5.978639e-11  5.777946e-11   \n",
       "681 -0.226727  1.233266 -0.494647 -3.074211e-07 -2.180975e-10  2.108098e-10   \n",
       "682 -0.121196 -2.314110  0.284863  3.476580e-07  2.466611e-10 -2.384098e-10   \n",
       "683 -0.277782 -2.030379  0.262191  3.014882e-07  2.139009e-10 -2.067490e-10   \n",
       "684 -0.089348  0.776902 -0.204001 -2.081479e-07 -1.476763e-10  1.427390e-10   \n",
       "\n",
       "               6             7         8         9   ...            74  \\\n",
       "0    1.021962e-10 -1.002219e-10  0.015015 -1.108822  ...  6.615687e-13   \n",
       "1    1.021964e-10 -1.002222e-10  0.013635 -1.111887  ...  6.613265e-13   \n",
       "2    7.537129e-11 -7.391410e-11 -0.001711 -0.625905  ...  7.792531e-15   \n",
       "3    1.502117e-10 -1.472873e-10 -0.030183 -0.827578  ...  4.932346e-14   \n",
       "4   -6.027293e-11  5.910834e-11 -0.004237  0.064427  ...  8.976690e-15   \n",
       "..            ...           ...       ...       ...  ...           ...   \n",
       "680  2.800451e-11 -2.745945e-11 -1.094977  0.736512  ...  7.265293e-15   \n",
       "681  1.021964e-10 -1.002221e-10  0.014996 -1.108865  ...  6.613781e-13   \n",
       "682 -1.155739e-10  1.133284e-10 -0.001641 -0.011329  ...  5.806607e-14   \n",
       "683 -1.002247e-10  9.828546e-11  0.017138  0.161203  ...  6.608782e-13   \n",
       "684  6.919529e-11 -6.785758e-11 -0.019264  1.307668  ...  6.636621e-13   \n",
       "\n",
       "               75            76            77            78            79  \\\n",
       "0   -4.332289e-13 -7.912200e-13 -1.754659e-13 -5.280842e-14  5.871498e-13   \n",
       "1   -4.340645e-13 -7.912020e-13 -1.748923e-13 -5.312238e-14  5.868439e-13   \n",
       "2   -1.935649e-14 -6.213731e-15  3.019814e-15  6.244676e-15  4.135201e-16   \n",
       "3   -2.279627e-14 -5.241688e-14  1.839631e-14  2.997910e-14  4.604982e-14   \n",
       "4   -1.532681e-14 -8.214744e-15  2.491594e-15  6.021511e-15  4.103819e-15   \n",
       "..            ...           ...           ...           ...           ...   \n",
       "680 -1.808396e-14 -7.146047e-15  4.662615e-15  7.084925e-15  1.609729e-15   \n",
       "681 -4.337000e-13 -7.914579e-13 -1.752115e-13 -5.303080e-14  5.868420e-13   \n",
       "682 -1.109223e-13 -1.631028e-14  2.286559e-14  2.212354e-14 -4.422668e-14   \n",
       "683 -4.298653e-13 -7.966319e-13 -1.716760e-13 -5.471934e-14  5.935268e-13   \n",
       "684 -4.312716e-13 -7.950860e-13 -1.754575e-13 -5.035692e-14  5.893516e-13   \n",
       "\n",
       "               80            81            82            83  \n",
       "0    3.583707e-13  7.472408e-14  7.904338e-13  4.561725e-13  \n",
       "1    3.594314e-13  7.460454e-14  7.891817e-13  4.553372e-13  \n",
       "2    4.908824e-15 -3.361548e-15  3.291779e-15  7.248567e-16  \n",
       "3    6.059332e-14 -1.113407e-14 -5.690006e-14  2.232575e-14  \n",
       "4    8.382820e-15 -2.820517e-15 -6.859142e-16  1.683917e-15  \n",
       "..            ...           ...           ...           ...  \n",
       "680  6.131727e-15 -2.233795e-15  1.687459e-17 -1.334659e-15  \n",
       "681  3.594746e-13  7.480133e-14  7.893221e-13  4.553282e-13  \n",
       "682 -4.144151e-15  3.404714e-14  3.659870e-14 -8.791254e-15  \n",
       "683  3.654135e-13  7.490203e-14  7.839293e-13  4.565011e-13  \n",
       "684  3.623463e-13  7.535241e-14  7.862070e-13  4.553905e-13  \n",
       "\n",
       "[685 rows x 84 columns]"
      ]
     },
     "execution_count": 8,
     "metadata": {},
     "output_type": "execute_result"
    }
   ],
   "source": [
    "#Standardize the data set to control large value influence\n",
    "#Dimensionality Reduction - Set n_components to preserve 90% of the explained variance\n",
    "\n",
    "from sklearn.preprocessing import StandardScaler\n",
    "from sklearn.decomposition import PCA\n",
    "\n",
    "pca = PCA(n_components=.90)\n",
    "\n",
    "df_dummies_scaled = StandardScaler().fit_transform(df_dummies)\n",
    "\n",
    "dummies_pca = pca.fit_transform(df_dummies_scaled)\n",
    "\n",
    "df_dummies_pca = pd.DataFrame(data=dummies_pca)\n",
    "\n",
    "df_dummies_pca"
   ]
  },
  {
   "cell_type": "markdown",
   "id": "2f87dbb5",
   "metadata": {},
   "source": [
    "PCA Reduces Dimensions to 685 Rows and 84 features"
   ]
  },
  {
   "cell_type": "code",
   "execution_count": 9,
   "id": "57ad2579",
   "metadata": {},
   "outputs": [
    {
     "data": {
      "text/plain": [
       "(685, 2)"
      ]
     },
     "execution_count": 9,
     "metadata": {},
     "output_type": "execute_result"
    }
   ],
   "source": [
    "#Reduce Dimension further with t-SNE model\n",
    "\n",
    "from sklearn.manifold import TSNE\n",
    "\n",
    "# Initialize t-SNE model\n",
    "tsne = TSNE(learning_rate=30)\n",
    "\n",
    "tsne_features = tsne.fit_transform(dummies_pca)\n",
    "tsne_features.shape"
   ]
  },
  {
   "cell_type": "code",
   "execution_count": 10,
   "id": "b87f241c",
   "metadata": {},
   "outputs": [
    {
     "data": {
      "text/html": [
       "<div>\n",
       "<style scoped>\n",
       "    .dataframe tbody tr th:only-of-type {\n",
       "        vertical-align: middle;\n",
       "    }\n",
       "\n",
       "    .dataframe tbody tr th {\n",
       "        vertical-align: top;\n",
       "    }\n",
       "\n",
       "    .dataframe thead th {\n",
       "        text-align: right;\n",
       "    }\n",
       "</style>\n",
       "<table border=\"1\" class=\"dataframe\">\n",
       "  <thead>\n",
       "    <tr style=\"text-align: right;\">\n",
       "      <th></th>\n",
       "      <th>x</th>\n",
       "      <th>y</th>\n",
       "    </tr>\n",
       "  </thead>\n",
       "  <tbody>\n",
       "    <tr>\n",
       "      <th>0</th>\n",
       "      <td>5.534403</td>\n",
       "      <td>16.060503</td>\n",
       "    </tr>\n",
       "    <tr>\n",
       "      <th>1</th>\n",
       "      <td>2.452217</td>\n",
       "      <td>20.859665</td>\n",
       "    </tr>\n",
       "    <tr>\n",
       "      <th>2</th>\n",
       "      <td>-0.622877</td>\n",
       "      <td>-22.789276</td>\n",
       "    </tr>\n",
       "    <tr>\n",
       "      <th>3</th>\n",
       "      <td>-1.917861</td>\n",
       "      <td>33.411621</td>\n",
       "    </tr>\n",
       "    <tr>\n",
       "      <th>4</th>\n",
       "      <td>-0.075087</td>\n",
       "      <td>-29.268002</td>\n",
       "    </tr>\n",
       "    <tr>\n",
       "      <th>...</th>\n",
       "      <td>...</td>\n",
       "      <td>...</td>\n",
       "    </tr>\n",
       "    <tr>\n",
       "      <th>680</th>\n",
       "      <td>-4.624087</td>\n",
       "      <td>-11.016963</td>\n",
       "    </tr>\n",
       "    <tr>\n",
       "      <th>681</th>\n",
       "      <td>-0.350425</td>\n",
       "      <td>15.229180</td>\n",
       "    </tr>\n",
       "    <tr>\n",
       "      <th>682</th>\n",
       "      <td>-31.285433</td>\n",
       "      <td>2.530777</td>\n",
       "    </tr>\n",
       "    <tr>\n",
       "      <th>683</th>\n",
       "      <td>-16.016394</td>\n",
       "      <td>-15.886408</td>\n",
       "    </tr>\n",
       "    <tr>\n",
       "      <th>684</th>\n",
       "      <td>11.008551</td>\n",
       "      <td>-5.016322</td>\n",
       "    </tr>\n",
       "  </tbody>\n",
       "</table>\n",
       "<p>685 rows × 2 columns</p>\n",
       "</div>"
      ],
      "text/plain": [
       "             x          y\n",
       "0     5.534403  16.060503\n",
       "1     2.452217  20.859665\n",
       "2    -0.622877 -22.789276\n",
       "3    -1.917861  33.411621\n",
       "4    -0.075087 -29.268002\n",
       "..         ...        ...\n",
       "680  -4.624087 -11.016963\n",
       "681  -0.350425  15.229180\n",
       "682 -31.285433   2.530777\n",
       "683 -16.016394 -15.886408\n",
       "684  11.008551  -5.016322\n",
       "\n",
       "[685 rows x 2 columns]"
      ]
     },
     "execution_count": 10,
     "metadata": {},
     "output_type": "execute_result"
    }
   ],
   "source": [
    "#Create x,y axis for Scatter Plot \n",
    "tsne_df = pd.DataFrame(tsne_features, columns=['x','y'])\n",
    "tsne_df"
   ]
  },
  {
   "cell_type": "code",
   "execution_count": 11,
   "id": "0812684f",
   "metadata": {},
   "outputs": [
    {
     "data": {
      "image/png": "[encoded data removed]",
      "text/plain": [
       "<Figure size 432x288 with 1 Axes>"
      ]
     },
     "metadata": {
      "needs_background": "light"
     },
     "output_type": "display_data"
    }
   ],
   "source": [
    "#Create Scatter Plot visual to measure distinct clusters\n",
    "import matplotlib.pyplot as plt\n",
    "plt.scatter(tsne_df['x'], tsne_df['y'])\n",
    "plt.show()"
   ]
  },
  {
   "cell_type": "code",
   "execution_count": 12,
   "id": "96253f88",
   "metadata": {},
   "outputs": [
    {
     "data": {
      "image/png": "[encoded data removed]",
      "text/plain": [
       "<Figure size 432x288 with 1 Axes>"
      ]
     },
     "metadata": {
      "needs_background": "light"
     },
     "output_type": "display_data"
    }
   ],
   "source": [
    "#Create Elbow Plot to identify best number of clusters\n",
    "\n",
    "import numpy as np\n",
    "from sklearn.cluster import KMeans\n",
    "\n",
    "inertia = []\n",
    "#Same as k = list(range(1, 11))\n",
    "k = [1,2,3,4,5,6,7,8,9,10]\n",
    "\n",
    "#For Loop - find the best k\n",
    "for i in k:\n",
    "    km = KMeans(n_clusters=i, random_state=0)\n",
    "    km.fit(tsne_df)\n",
    "    inertia.append(km.inertia_)\n",
    "\n",
    "# Define a DataFrame to plot the Elbow Curve using hvPlot\n",
    "elbow_data = {\"k\": k, \"inertia\": inertia}\n",
    "df_elbow = pd.DataFrame(elbow_data)\n",
    "\n",
    "plt.plot(df_elbow['k'], df_elbow['inertia'])\n",
    "plt.xticks(range(1,11))\n",
    "plt.xlabel('Number of clusters')\n",
    "plt.ylabel('Inertia')\n",
    "plt.show()"
   ]
  },
  {
   "cell_type": "markdown",
   "id": "36889bb3",
   "metadata": {},
   "source": [
    "From observing the Scatter Plot Cluster then measuring the K-Means in our Elbow Plot, we can see the greatest value could found in a grouping model containing 3 to 4 clusters of traded crypto currencies. "
   ]
  },
  {
   "cell_type": "code",
   "execution_count": null,
   "id": "58d6e081",
   "metadata": {},
   "outputs": [],
   "source": []
  }
 ],
 "metadata": {
  "kernelspec": {
   "display_name": "Python 3",
   "language": "python",
   "name": "python3"
  },
  "language_info": {
   "codemirror_mode": {
    "name": "ipython",
    "version": 3
   },
   "file_extension": ".py",
   "mimetype": "text/x-python",
   "name": "python",
   "nbconvert_exporter": "python",
   "pygments_lexer": "ipython3",
   "version": "3.8.8"
  }
 },
 "nbformat": 4,
 "nbformat_minor": 5
}
